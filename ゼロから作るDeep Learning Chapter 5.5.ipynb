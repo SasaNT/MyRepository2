{
 "cells": [
  {
   "cell_type": "markdown",
   "metadata": {},
   "source": [
    "# 誤差逆伝播法"
   ]
  },
  {
   "cell_type": "markdown",
   "metadata": {},
   "source": [
    "- これまでの計算グラフのおさらい\n",
    "<br><br>\n",
    "<img src = \".\\img5-5\\5-17リンゴ2個とミカン3個の買い物.png\" width=\"500\" height=\"800\">\n",
    "<br><br>\n",
    "順伝播→\"×\"に対しては、順伝播の入力値をひっくり返した値を乗算して下流へ   \n",
    "逆伝播→\"+\"に対しては、逆伝播では、そのままの値を下流へ"
   ]
  },
  {
   "cell_type": "markdown",
   "metadata": {},
   "source": [
    "## 5.5 活性化関数レイヤの実装\n",
    "\n",
    "前回学んだ、計算グラフの考え方をニューラルネットワークに適用します。ここでは、ニューラルネットワークを構成する「層（レイヤ）」をひとつのクラスとして実装しています。"
   ]
  },
  {
   "cell_type": "markdown",
   "metadata": {},
   "source": [
    "### 5.5.1 ReLuレイヤ\n"
   ]
  },
  {
   "cell_type": "code",
   "execution_count": 109,
   "metadata": {},
   "outputs": [
    {
     "data": {
      "image/png": "[encoded data removed]",
      "text/plain": [
       "<matplotlib.figure.Figure at 0x10f9af208>"
      ]
     },
     "metadata": {},
     "output_type": "display_data"
    }
   ],
   "source": [
    "# coding: utf-8\n",
    "import numpy as np\n",
    "import matplotlib.pylab as plt\n",
    "\n",
    "\n",
    "def relu(x):\n",
    "    return np.maximum(0, x)\n",
    "\n",
    "x = np.arange(-5.0, 5.0, 0.1)\n",
    "y = relu(x)\n",
    "plt.plot(x, y)\n",
    "plt.ylim(-1.0, 5.5)\n",
    "plt.show()"
   ]
  },
  {
   "cell_type": "markdown",
   "metadata": {},
   "source": [
    "活性化関数として使われるReLu（Rectified Linear Unit)は、次の式(5.7)で表されました（教科書P51,3.2.7 ReLu関数参照）\n",
    "  \n",
    "$$y =\n",
    "\\left\\{\n",
    "\\begin{array}{}\n",
    "x & (x > 0) \\\\\n",
    "0 & (x \\leq 0)\n",
    "\\end{array}\n",
    "\\right.$$<div style=\"text-align: right;\">(5.7)</div></p>"
   ]
  },
  {
   "cell_type": "markdown",
   "metadata": {},
   "source": [
    "微分すると下記のようになる。\n",
    "$$\\frac{\\partial y}{\\partial x} =\n",
    "\\left\\{\n",
    "\\begin{array}{}\n",
    "1 & (x > 0) \\\\\n",
    "0 & (x \\leq 0)\n",
    "\\end{array}\n",
    "\\right.$$<div style=\"text-align: right;\">(5.8)</div></p>\n",
    "\n",
    "この式を見ると以下のことが分かる。\n",
    "- 順伝播時の入力である$x$が0より大きければ，逆伝播は上流の値をそのまま下流に流す\n",
    "- 逆に，$x$が0以下であれば，逆伝播時に下流への信号をそこでストップする"
   ]
  },
  {
   "cell_type": "markdown",
   "metadata": {},
   "source": [
    "<img src = \".\\img5-5\\fig5-18.png\" width=\"500\" height=\"800\">\n",
    "<div style=\"text-align: right;\"></p>図5-18 ReLUレイヤの計算グラフ</div>"
   ]
  },
  {
   "cell_type": "code",
   "execution_count": 110,
   "metadata": {},
   "outputs": [
    {
     "ename": "IndentationError",
     "evalue": "unexpected indent (<ipython-input-110-c946616b4b52>, line 12)",
     "output_type": "error",
     "traceback": [
      "\u001b[0;36m  File \u001b[0;32m\"<ipython-input-110-c946616b4b52>\"\u001b[0;36m, line \u001b[0;32m12\u001b[0m\n\u001b[0;31m    self.mask = (x <=0 ) #  x <=0　の場合、True, それ以外はFalse を渡す\u001b[0m\n\u001b[0m    ^\u001b[0m\n\u001b[0;31mIndentationError\u001b[0m\u001b[0;31m:\u001b[0m unexpected indent\n"
     ]
    }
   ],
   "source": [
    "# coding: utf-8\n",
    "#皆さんの、deep-learning-from-scratch-masterフォルダの置いてある場所を指定してください\n",
    "import sys\n",
    "sys.path.append('/Users/Coy/Documents/Statistics/Statistics Semi/make_DeepLearning_from_scrach/deep-learning-from-scratch-master')\n",
    "\n",
    "\n",
    "import numpy as np\n",
    "from common.functions import *\n",
    "from common.util import im2col, col2im\n",
    "\n",
    "\n",
    "        self.mask = (x <=0 ) #  x <=0　の場合、True, それ以外はFalse を渡す\n",
    "        out = x.copy() #  xの値（配列）をコピーする\n",
    "        out[self.mask] = 0 # True の要素の値のみを０のに変換する\n",
    "        \n",
    "        return out\n",
    "    \n",
    "    def backward(self, dout):\n",
    "        dout[self.mask] = 0　# x<=0がtrue のものは、逆伝播の微分のdoutも0で流す(それ以外はそのまま流す。)\n",
    "        dx = dout\n",
    "        \n",
    "        return dx"
   ]
  },
  {
   "cell_type": "markdown",
   "metadata": {},
   "source": [
    "ReLUクラスは、インスタンス変数としてmaskという変数を持ち、True/FalseからなるNumPy配列である.  \n",
    "$x$の要素で0以下の場所をTrue,それ以外(0より大きい要素)をFalseとして保持します。"
   ]
  },
  {
   "cell_type": "code",
   "execution_count": 111,
   "metadata": {},
   "outputs": [
    {
     "name": "stdout",
     "output_type": "stream",
     "text": [
      "[[ 1.  -0.5]\n",
      " [-2.   3. ]]\n"
     ]
    }
   ],
   "source": [
    "x = np.array( [[1.0,-0.5], [-2.0,3.0]] )\n",
    "print(x)"
   ]
  },
  {
   "cell_type": "code",
   "execution_count": 112,
   "metadata": {},
   "outputs": [
    {
     "name": "stdout",
     "output_type": "stream",
     "text": [
      "[[False  True]\n",
      " [ True False]]\n"
     ]
    }
   ],
   "source": [
    "mask = (x <=0)\n",
    "print(mask)"
   ]
  },
  {
   "cell_type": "code",
   "execution_count": 113,
   "metadata": {
    "scrolled": true
   },
   "outputs": [
    {
     "name": "stdout",
     "output_type": "stream",
     "text": [
      "xの配列\n",
      "[[ 1.  -0.5]\n",
      " [-2.   3. ]]\n",
      "maskがTrueの値（つまり0以下の値）だけ、0を代入\n",
      "[[ 1.  0.]\n",
      " [ 0.  3.]]\n"
     ]
    }
   ],
   "source": [
    "out = x.copy()\n",
    "print(\"xの配列\")\n",
    "print(out)\n",
    "out[mask] = 0\n",
    "print(\"maskがTrueの値（つまり0以下の値）だけ、0を代入\")\n",
    "print(out)"
   ]
  },
  {
   "cell_type": "code",
   "execution_count": 114,
   "metadata": {},
   "outputs": [
    {
     "name": "stdout",
     "output_type": "stream",
     "text": [
      "入力値(x)\n",
      "[ 1  2  3 -1 -2 -3]\n",
      "Reluレイヤのforward処理\n",
      "[1 2 3 0 0 0]\n",
      "Reluレイヤのbackword処理\n",
      "[1 2 3 0 0 0]\n"
     ]
    }
   ],
   "source": [
    "x2 =np.array([1,2,3,-1,-2,-3])\n",
    "print(\"入力値(x)\")\n",
    "print(x2)\n",
    "relu_cul =Relu()\n",
    "\n",
    "print(\"Reluレイヤのforward処理\")\n",
    "forward_x2 = relu_cul.forward(x2)\n",
    "print(\"Reluレイヤのbackword処理\")\n",
    "backward_x2 = relu_cul.backward(x2)"
   ]
  },
  {
   "cell_type": "markdown",
   "metadata": {},
   "source": [
    "図5-18で示すように、順伝播時の入力が0以下ならば、逆伝播の値は0になります。  \n",
    "そのため、逆伝播では、順伝播時に保持したmaskを使って上流から伝播されたdoutに対して、maskの要素がTrueの場所を0にします.\n",
    "\n",
    "ReLUレイヤは回路におけるスイッチのようにはたらき、\n",
    "- 順伝播時に電流が流れていればONにし，流れなければスイッチをOFFにする\n",
    "- 逆伝播時には，スイッチがONであれば電流がそのまま流れ，OFFであればそれ以上電流は流れない．"
   ]
  },
  {
   "cell_type": "markdown",
   "metadata": {},
   "source": [
    "### Sigmoidレイヤ\n",
    "\n",
    "Sigmoid関数は下記で表される\n",
    "$$y =\n",
    "\\frac{1}{1 + \\exp(-x)}$$<div style=\"text-align: right;\">(5.9)</div></p>\n"
   ]
  },
  {
   "cell_type": "code",
   "execution_count": 115,
   "metadata": {
    "scrolled": true
   },
   "outputs": [
    {
     "data": {
      "image/png": "[encoded data removed]",
      "text/plain": [
       "<matplotlib.figure.Figure at 0x10f35b208>"
      ]
     },
     "metadata": {},
     "output_type": "display_data"
    }
   ],
   "source": [
    "# coding: utf-8\n",
    "import numpy as np\n",
    "import matplotlib.pylab as plt\n",
    "\n",
    "\n",
    "def sigmoid(x):\n",
    "    return 1 / (1 + np.exp(-x))    \n",
    "\n",
    "X = np.arange(-5.0, 5.0, 0.1)\n",
    "Y = sigmoid(X)\n",
    "plt.plot(X, Y)\n",
    "plt.ylim(-0.1, 1.1)\n",
    "plt.show()"
   ]
  },
  {
   "cell_type": "markdown",
   "metadata": {},
   "source": [
    "式(5.9)を計算グラフで表すと、次の図5-19のようになります。\n",
    "\n",
    "<img src = \".\\img5-5\\fig5-19.png\" width=\"800\" height=\"300\">\n",
    "<div style=\"text-align: right;\"></p>図5-19 Sigmoidレイヤの計算グラフ（順伝播のみ）</div>"
   ]
  },
  {
   "cell_type": "markdown",
   "metadata": {},
   "source": [
    "- expノード：$y = exp(x)$の計算を行う\n",
    "- /ノード：$y =\\dfrac{1}{x}$の計算を行う\n",
    "   \n",
    "図5-19のように、式(5.9)の計算は、局所的な計算の伝播によって構成されています。  \n",
    "次に、図5-19の逆伝播を見ていきます。\n",
    "  \n",
    "1. ステップ１  \n",
    "「/」ノードは、$y =\\dfrac{1}{x}$を表しますが、この微分は解析的に次の式にとなる。  \n",
    "  \n",
    "$$y'=\\left( -1\\right) x^{\\left( -1-1\\right) }$$\n",
    "$$=-x^{\\left( -2\\right) }=-\\dfrac {1}{x^{2}}=-y^2$$<div style=\"text-align: right;\">(5.10)</div></p>\n",
    "  \n",
    "式(5.9)より、逆伝播のときは、上流の値に対して、$-y^2$（順伝播の出力の2乗にマイナスをつけた値）を乗算して下流へ伝播  \n",
    "  \n",
    "2. ステップ２  \n",
    "「＋」ノードはそのまま下流に値を流すだけ  \n",
    "    \n",
    "      \n",
    "3. ステップ３  \n",
    "[$exp$」ノードは、$y=exp(x)$を表し、その微分は次の式で表されます(微分でも形は変わらない） \n",
    "  \n",
    "$$\\dfrac {\\partial y}{\\partial x}=exp\\left( x\\right)$$<div style=\"text-align: right;\">(5.11)</div></p>    \n",
    "      \n",
    "4. ステップ４  \n",
    "「×」ノードは、順伝播時の値を、\"ひっくり返して\"乗算する（ここでは、−１を乗算）  \n",
    "  \n",
    "  "
   ]
  },
  {
   "cell_type": "markdown",
   "metadata": {},
   "source": [
    "<img src = \".\\img5-5\\fig5-20.png\" width=\"800\" height=\"300\">\n",
    "<div style=\"text-align: right;\"></p>図5-20 Sigmoidレイヤの計算グラフ</div>"
   ]
  },
  {
   "cell_type": "markdown",
   "metadata": {},
   "source": [
    "図5-20の結果から、逆伝播の出力は、$\\dfrac {\\partial L}{\\partial y}y^{2}exp\\left( -x\\right)$となり、この値が下流にあるノードに伝播していきます。<br>ここでは、$\\dfrac {\\partial L}{\\partial y}y^{2}exp\\left( -x\\right)$という値が、<font color=\"#ea5550\">順伝播の入力$x$と、出力$y$だけから計算できる点に注目しましょう。</font><br>\n",
    "図5-21のようなグループ化した「sigmoid」ノードとして書くことができる。"
   ]
  },
  {
   "cell_type": "markdown",
   "metadata": {},
   "source": [
    "<img src = \".\\img5-5\\fig5-21.png\" width=\"300\" height=\"90\">\n",
    "<div style=\"text-align: right;\"></p>図5-21 Sigmoidレイヤの計算グラフ（簡略版）</div>"
   ]
  },
  {
   "cell_type": "markdown",
   "metadata": {},
   "source": [
    "図5-20と図5-21の計算グラフの計算結果は、同じ値になる。<br>\n",
    "**ポイント**\n",
    "- 簡略版の計算グラフの方が、逆伝播の際の途中計算を省略できるため、効率の良い計算といえる。\n",
    "- ノードをグループ化することによって、sigmoidレイヤの細かい計算過程を気にすることがない\n",
    "  =入力と出力だけに集中できる"
   ]
  },
  {
   "cell_type": "markdown",
   "metadata": {},
   "source": [
    "$\\dfrac {\\partial L}{\\partial y}y^{2}exp\\left( -x\\right)$は、さらに次のように整理して書くことができます。\n",
    "<p>\\begin{eqnarray*}\n",
    "\\dfrac {\\partial L}{\\partial y}y^{2}exp\\left( -x\\right) &=&\\dfrac {\\partial L}{\\partial y}\\dfrac {1}{\\left( 1+exp\\left( -x\\right) \\right) ^{2}}exp\\left( -x\\right)\\\\\n",
    "&=&\\dfrac {\\partial L}{\\partial y}\\dfrac {1}{1+exp\\left( -x\\right) }\\dfrac {exp\\left( -x\\right) }{1+exp\\left( -x\\right) }\\\\\n",
    "  &=&\\dfrac {\\partial L}{\\partial y}y\\left( 1-y\\right)\n",
    "\\end{eqnarray*}  <div style=\"text-align: right;\">(5.12)</div></p>\n",
    "</p>\n",
    "そのため、図5-21で表されるsigmoidレイヤの逆伝播は、順伝播の出力だけから計算することができる。"
   ]
  },
  {
   "cell_type": "markdown",
   "metadata": {},
   "source": [
    "<img src = \".\\img5-5\\fig5-22.png\" width=\"300\" height=\"90\">\n",
    "<div style=\"text-align: right;\"></p>図5-22 Sigmoidレイヤの計算グラフ 順伝播の出力$y$によって、逆伝播の計算が行える</div>"
   ]
  },
  {
   "cell_type": "markdown",
   "metadata": {},
   "source": [
    "#### sigmoidレイヤの実装\n",
    "図5-22を参考にすれば、次のように実装することができます。"
   ]
  },
  {
   "cell_type": "code",
   "execution_count": 116,
   "metadata": {
    "collapsed": true
   },
   "outputs": [],
   "source": [
    "class Sigmoid:\n",
    "    def __init__(self):\n",
    "        self.out = None\n",
    "        \n",
    "    def forward(self, x):\n",
    "        out = 1/ (1+np.exp(-x))#シグモイド関数で出力を計算\n",
    "        self.out = out\n",
    "        \n",
    "        return out\n",
    "    \n",
    "    def backward(self,dout):\n",
    "        dx = dout * (1.0 - self.out) * self.out #出力から、逆伝播の微分を計算する\n",
    "        \n",
    "        return dx"
   ]
  },
  {
   "cell_type": "code",
   "execution_count": 117,
   "metadata": {},
   "outputs": [
    {
     "name": "stdout",
     "output_type": "stream",
     "text": [
      "順伝播\n",
      "[ 0.73105858  0.88079708  0.95257413  0.26894142  0.11920292  0.04742587]\n",
      "逆伝播\n",
      "[ 0.19661193  0.20998717  0.13552998 -0.19661193 -0.20998717 -0.13552998]\n"
     ]
    }
   ],
   "source": [
    "x3 = np.array([1,2,3,-1,-2,-3])\n",
    "\n",
    "sigmoid_cul = Sigmoid()\n",
    "\n",
    "sigmoid_forward = sigmoid_cul.forward(x3)\n",
    "print(\"順伝播\")\n",
    "print(sigmoid_forward)\n",
    "               \n",
    "sigmoid_backward = sigmoid_cul.backward(x3)\n",
    "print(\"逆伝播\")\n",
    "print(sigmoid_backward)"
   ]
  },
  {
   "cell_type": "markdown",
   "metadata": {},
   "source": [
    "この実装では、順伝播時に出力をインスタンス変数の```out```に保持しておき、逆伝播時には、その```out```変数を使って計算を行います。"
   ]
  },
  {
   "cell_type": "markdown",
   "metadata": {},
   "source": [
    "### Affineレイヤ\n",
    "\n",
    "ニューラルネットの順伝播では，重み付き信号の総和を計算するために行列の内積(NumPyではnp.dot))を使った。\n",
    "幾何学の分野ではアフィン変換と呼ばれるため、この処理をAffineレイヤという名前で実装している。"
   ]
  },
  {
   "cell_type": "code",
   "execution_count": 118,
   "metadata": {},
   "outputs": [
    {
     "name": "stdout",
     "output_type": "stream",
     "text": [
      "X [ 0.41097054  0.08977904]\n",
      "W [[ 0.93321859  0.94198619  0.08577379]\n",
      " [ 0.65119998  0.4624026   0.46824148]]\n",
      "B [ 0.93874491  0.12986364  0.80962111]\n",
      "XW [ 0.44198946  0.42864263  0.07728877]\n",
      "Y [ 1.38073436  0.55850628  0.88690988]\n"
     ]
    }
   ],
   "source": [
    "X = np.random.rand(2) #入力\n",
    "W = np.random.rand(2,3) #重み\n",
    "B = np.random.rand(3)   #バイアス\n",
    "\n",
    "print(\"X\",X)\n",
    "print(\"W\",W)\n",
    "print(\"B\",B)\n",
    "\n",
    "X.shape # (2, ) .shapeは配列の形状を返す\n",
    "W.shape #(2, 3)\n",
    "B.shape #(3, )\n",
    "\n",
    "XW = np.dot(X, W)\n",
    "print(\"XW\",XW)\n",
    "\n",
    "Y = np.dot(X, W) + B # 行列の積をnp.dotで計算\n",
    "print(\"Y\",Y)"
   ]
  },
  {
   "cell_type": "markdown",
   "metadata": {},
   "source": [
    "- X,W,Bは、それぞれの形状が、(2, ),(2, 3),(3, )の多次元配列\n",
    "- ニューロンの重み付き和は、Y = np.dot(X, W) + B のように計算できる\n",
    "- 順伝播は、Yが活性化関数によって変換され、次のそうに伝播される。\n",
    "- ※行列の内積は、対応する次元の要素数を一致させる必要がある\n",
    "  \n",
    "  np.dot(X, W) + Bの計算は、図5-24の計算グラフで表すことができる。\n",
    "  各変数の上部に、その変数の形状を表記"
   ]
  },
  {
   "cell_type": "markdown",
   "metadata": {},
   "source": [
    "<img src = \".\\img5-5\\fig5-24.png\" width=\"400\" height=\"90\">\n",
    "<div style=\"text-align: right;\"></p>図5-24 Affineレイヤの計算グラフ 変数が行列であることに注意。</div>"
   ]
  },
  {
   "cell_type": "markdown",
   "metadata": {},
   "source": [
    "これまでの計算グラフは、「スカラ値（単一の値）」がノードを流れていましたが、この例では、「行列」がノードを伝播します。  \n",
    "行列を対象とした逆伝播を求める場合は、行列の要素ごとに書き下すことで、これまでのスカラ値を対象とした計算グラフと同じ手順で考えることができます（式(5.13)"
   ]
  },
  {
   "cell_type": "markdown",
   "metadata": {},
   "source": [
    "\\begin{eqnarray*}\\dfrac {\\partial L}{\\partial X}&=&\\dfrac {\\partial L}{\\partial Y}.W^{T}\\\\\n",
    "\\dfrac {\\partial L}{\\partial W}&=&X^{T}.\\dfrac {\\partial L}{\\partial Y}\\end{eqnarray*}  <div style=\"text-align: right;\">(5.13)</div></p>"
   ]
  },
  {
   "cell_type": "markdown",
   "metadata": {},
   "source": [
    "式(5-13)の$W^{T}$のTは転置を表します。$W(i, j)$の要素を、$(j, i)$の要素に入れ替える事を言います。<br>\n",
    "式(5-14)に示すように、$W$の形状が(2, 3)であるとすると、$W^{T}$の形状は(3, 2)になります。式(5-13)を元に、逆伝播の計算グラフを図5-25に示します。"
   ]
  },
  {
   "cell_type": "markdown",
   "metadata": {},
   "source": [
    "<img src = \".\\img5-5\\fig5-25.png\" width=\"500\" height=\"90\">\n",
    "<div style=\"text-align: right;\"></p>図5-25 Affineレイヤの逆伝播：変数が多次元配列であることに注意。</div>"
   ]
  },
  {
   "cell_type": "markdown",
   "metadata": {},
   "source": [
    "図5-25の計算グラフでは、各変数の形状に注意\n",
    "- $X$と$\\dfrac {\\partial L}{\\partial X}$は、同じ形状（式(5-15)からも明らか）\n",
    "- $W$と$\\dfrac {\\partial L}{\\partial W}$は、同じ形状"
   ]
  },
  {
   "cell_type": "markdown",
   "metadata": {},
   "source": [
    "$$X=\\left( x_{0},x_{1},\\ldots ,x_{n}\\right)\\\\\n",
    "\\dfrac {\\partial L}{\\partial x}=\\left( \\dfrac {\\partial L}{\\partial x_{0}},\\dfrac {\\partial L}{\\partial x_{1}},\\ldots ,\\dfrac {\\partial L}{\\partial x_{n}}\\right)$$<div style=\"text-align: right;\">(5.15)</div></p>"
   ]
  },
  {
   "cell_type": "markdown",
   "metadata": {},
   "source": [
    "(「dot」ノード）の逆伝播は、行列の対応する次元の要素数を一致させるように内積を組み立てる事で導くことができる。"
   ]
  },
  {
   "cell_type": "markdown",
   "metadata": {},
   "source": [
    "<img src = \".\\img5-5\\fig5-25.png\" width=\"500\" height=\"90\">\n",
    "<div style=\"text-align: right;\"></p>図5-26 行列の内積</div>"
   ]
  },
  {
   "cell_type": "markdown",
   "metadata": {},
   "source": [
    "### バッチ版Affineレイヤ\n",
    "\n",
    "上記のAffineレイヤは、Xが１つのデータだったが、これをバッチ版に変更する。 違いは、Xの形が(N,2）になった点。それに伴い全体の形状も変更する。<br>\n",
    "注意すべき点は、バイアスの加算。バイアスは、それぞれのデータに対して加算が行われるため、逆伝播の時には、axisを０番目として、総和を求める。"
   ]
  },
  {
   "cell_type": "code",
   "execution_count": 1,
   "metadata": {
    "collapsed": true
   },
   "outputs": [],
   "source": [
    "#入力がテンソル（４次元のデータ）の場合も考慮した実装\n",
    "class Affine:\n",
    "    def __init__(self, w,b):# インスタンス変数の初期化\n",
    "        self.W = W # 重みは固定\n",
    "        self.b = b #　バイアスも固定\n",
    "        self.x = None\n",
    "        self.dW = None\n",
    "        self.db = None\n",
    "        \n",
    "    def forward(self, x):\n",
    "        self.x = x #入力を引数で渡す\n",
    "        out = np.dot(x, self.W) + self.b # バイアス+重みx入力の行列を渡す\n",
    "        \n",
    "        return out\n",
    "\n",
    "    def backward(self, dout):\n",
    "        dx = np.dot(dout, self.W.T)      #重みの形状の転置を行ない、doutで内積計算(dot)\n",
    "        self.dW = np.dot(self.x.T, dout) # 入力の形状を転置行列へ変換、doutで内積計算(dot)\n",
    "        self.db = np.sum(dout, axis=0)   #バイアスはaxis=0（行方向）で微分する。\n",
    "        \n",
    "        return dx"
   ]
  },
  {
   "cell_type": "markdown",
   "metadata": {},
   "source": [
    "### Softmax-with-Lossレイヤ\n",
    "\n",
    "ソフトマックス関数は入力値を正規化して出力する\n",
    "Softmaxレイヤの逆伝播の値は，Softmaxレイヤと教師ラベルの差分になる"
   ]
  },
  {
   "cell_type": "markdown",
   "metadata": {},
   "source": [
    "### 誤差逆伝播法の実装\n",
    "\n",
    "ニューラルネットワークの学習の全体図\n",
    "前提\n",
    "ニューラルネットワークは適応可能な重みとバイアスがあり，この重みとバイアスを訓練データに適応するように調整することを学習と呼ぶ．\n",
    "訓練データの中からランダムに一部のデータを選び出す\n",
    "各重みパラメータに関する損失関数の勾配を求める\n",
    "重みパラメータを勾配方向に微小量だけ更新する\n",
    "上記を繰り返す\n"
   ]
  },
  {
   "cell_type": "code",
   "execution_count": null,
   "metadata": {
    "collapsed": true
   },
   "outputs": [],
   "source": []
  }
 ],
 "metadata": {
  "anaconda-cloud": {},
  "kernelspec": {
   "display_name": "Python 3",
   "language": "python",
   "name": "python3"
  },
  "language_info": {
   "codemirror_mode": {
    "name": "ipython",
    "version": 3
   },
   "file_extension": ".py",
   "mimetype": "text/x-python",
   "name": "python",
   "nbconvert_exporter": "python",
   "pygments_lexer": "ipython3",
   "version": "3.6.3"
  }
 },
 "nbformat": 4,
 "nbformat_minor": 2
}
